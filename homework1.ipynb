{
  "nbformat": 4,
  "nbformat_minor": 0,
  "metadata": {
    "colab": {
      "provenance": [],
      "authorship_tag": "ABX9TyNQK43/8xboTNjreogBt3+P",
      "include_colab_link": true
    },
    "kernelspec": {
      "name": "python3",
      "display_name": "Python 3"
    },
    "language_info": {
      "name": "python"
    }
  },
  "cells": [
    {
      "cell_type": "markdown",
      "metadata": {
        "id": "view-in-github",
        "colab_type": "text"
      },
      "source": [
        "<a href=\"https://colab.research.google.com/github/DariaBukharina/HWstatprac/blob/main/homework1.ipynb\" target=\"_parent\"><img src=\"https://colab.research.google.com/assets/colab-badge.svg\" alt=\"Open In Colab\"/></a>"
      ]
    },
    {
      "cell_type": "markdown",
      "source": [
        "Problem 1\n",
        "\n",
        "Make a tuple containing natural numbers, the square of which is a multiple of 3, 4, but not a multiple of 8 and not exceeding 12345."
      ],
      "metadata": {
        "id": "_Gc7kwYTCchB"
      }
    },
    {
      "cell_type": "code",
      "execution_count": 4,
      "metadata": {
        "colab": {
          "base_uri": "https://localhost:8080/"
        },
        "id": "vXV_KNVS2IMD",
        "outputId": "21d2f9ac-3f5c-47ab-ecad-8143dd56a794"
      },
      "outputs": [
        {
          "output_type": "stream",
          "name": "stdout",
          "text": [
            "(6, 18, 30, 42, 54, 66, 78, 90, 102)\n"
          ]
        }
      ],
      "source": [
        "result = tuple(n for n in range(1, 12346) if n**2 % 3 == 0 and n**2 % 4 == 0 and n**2 % 8 != 0 and n*n<12346)\n",
        "print(result)"
      ]
    },
    {
      "cell_type": "markdown",
      "source": [],
      "metadata": {
        "id": "oxk6gL3eC_25"
      }
    },
    {
      "cell_type": "markdown",
      "metadata": {
        "id": "zIfvg22noBGk"
      },
      "source": [
        "Problem 2\n",
        "\n",
        "Write a function that takes a two-dimensional array and a string as input and returns an array rotated 90 degrees counterclockwise if the string 'left' was passed, and clockwise if the string 'right' was passed.\n",
        "\n",
        "Example for input: $\\begin{bmatrix} 1 & 2 & 3 \\\\ 4 & 5 & 6 \\\\ 7 & 8 & 9 \\end{bmatrix}$.\\\n",
        "If the string 'left' is passed, the function should return $\\begin{bmatrix} 3 & 6 & 9 \\\\ 2 & 5 & 8 \\\\ 1 & 4 & 7 \\end{bmatrix}$, and if the string 'right' is passed, the function should return $\\begin{bmatrix} 7 & 4 & 1 \\\\ 8 & 5 & 2 \\\\ 9 & 6 & 3 \\end{bmatrix}$."
      ]
    },
    {
      "cell_type": "code",
      "source": [
        "def rotate_matrix(matrix, direction):\n",
        "    # Проверка, пуста ли входная матрица\n",
        "    if not matrix or not matrix[0]:\n",
        "        return []\n",
        "\n",
        "    rows = len(matrix)\n",
        "    cols = len(matrix[0])\n",
        "    rotated = [[0] * rows for _ in range(cols)]\n",
        "\n",
        "    if direction == 'left':\n",
        "        # Поворот против часовой стрелки\n",
        "        for r in range(rows):\n",
        "            for c in range(cols):\n",
        "                rotated[cols - c - 1][r] = matrix[r][c]\n",
        "    elif direction == 'right':\n",
        "        # Поворот по часовой стрелке\n",
        "        for r in range(rows):\n",
        "            for c in range(cols):\n",
        "                rotated[c][rows - r - 1] = matrix[r][c]\n",
        "    else:\n",
        "        raise ValueError(\"Направление должн быть 'left' или 'right'.\")\n",
        "\n",
        "    return rotated\n",
        "\n",
        "# Пример\n",
        "matrix = [\n",
        "    [1, 2, 3],\n",
        "    [4, 5, 6],\n",
        "    [7, 8, 9]\n",
        "]\n",
        "\n",
        "print(rotate_matrix(matrix, 'left'))\n",
        "print(rotate_matrix(matrix, 'right'))\n"
      ],
      "metadata": {
        "colab": {
          "base_uri": "https://localhost:8080/"
        },
        "id": "0Pc-Z6QX46h2",
        "outputId": "da6b6470-0f26-40f4-ca21-cb3d14c8c321"
      },
      "execution_count": 8,
      "outputs": [
        {
          "output_type": "stream",
          "name": "stdout",
          "text": [
            "[[3, 6, 9], [2, 5, 8], [1, 4, 7]]\n",
            "[[7, 4, 1], [8, 5, 2], [9, 6, 3]]\n"
          ]
        }
      ]
    },
    {
      "cell_type": "markdown",
      "source": [],
      "metadata": {
        "id": "9yiFPZ1VDRku"
      }
    },
    {
      "cell_type": "markdown",
      "metadata": {
        "id": "3CaIwcm0oBGk"
      },
      "source": [
        "Problem 3\n",
        "\n",
        "Write a function that takes a string as input and returns a dictionary containing the number of occurrences of each character in the string.\n",
        "\n",
        "Example for the string 'hello, world!': {'h': 1, 'e': 1, 'l': 3, 'o': 2, ',': 1, ' ': 1, 'w': 1, 'r': 1, 'd': 1, '!': 1}."
      ]
    },
    {
      "cell_type": "code",
      "source": [
        "def count_characters(string):\n",
        "    # Пустой словарь\n",
        "    char_count = {}\n",
        "    # Проходим по каждому символу в строке\n",
        "    for char in string:\n",
        "        # Если символ уже есть в словаре, увеличиваем его счетчик на 1\n",
        "        if char in char_count:\n",
        "            char_count[char] += 1\n",
        "        else:\n",
        "            # Если символа еще нет в словаре, добавляем его со значением 1\n",
        "            char_count[char] = 1\n",
        "\n",
        "    return char_count\n",
        "\n",
        "# Пример\n",
        "string = 'first homework.'\n",
        "result = count_characters(string)\n",
        "print(result)\n"
      ],
      "metadata": {
        "colab": {
          "base_uri": "https://localhost:8080/"
        },
        "id": "QEkZlJdJ8062",
        "outputId": "0b24d1d8-2ef6-444f-9ff6-cf0140157a3b"
      },
      "execution_count": 11,
      "outputs": [
        {
          "output_type": "stream",
          "name": "stdout",
          "text": [
            "{'f': 1, 'i': 1, 'r': 2, 's': 1, 't': 1, ' ': 1, 'h': 1, 'o': 2, 'm': 1, 'e': 1, 'w': 1, 'k': 1, '.': 1}\n"
          ]
        }
      ]
    },
    {
      "cell_type": "markdown",
      "source": [],
      "metadata": {
        "id": "dkD-BqIbDbnH"
      }
    },
    {
      "cell_type": "markdown",
      "metadata": {
        "id": "XS4Seqa9oBGk"
      },
      "source": [
        "Problem 4\n",
        "### Implementing a Library Management System\n",
        "\n",
        "#### Description\n",
        "\n",
        "You are required to design and implement a system for managing books and users in a library. The system should allow for the management of books (adding, deleting, searching by various criteria) and users (registration, deletion, searching), as well as tracking the history of interactions between them (issuing and returning books).\n",
        "\n",
        "#### Tasks\n",
        "\n",
        "1. **`Book` Class**:\n",
        "   - Attributes: title, author, year of publication, ISBN, number of copies.\n",
        "   - Methods: constructor, methods to get information about the book, method to change the number of copies (when issuing and returning books).\n",
        "\n",
        "2. **`User` Class**:\n",
        "   - Attributes: user name, library card number, list of borrowed books.\n",
        "   - Methods: constructor, methods for user registration, methods for adding and removing books from the borrowed list.\n",
        "\n",
        "3. **`Library` Class**:\n",
        "   - Attributes: list of books, list of users, transaction history (who, when, which book was borrowed and returned).\n",
        "   - Methods: constructor, methods for adding and deleting books and users, methods for issuing and returning books, searching for books and users by various criteria, method to display the transaction history.\n",
        "\n",
        "#### Assignment\n",
        "\n",
        "1. Implement the `Book`, `User`, and `Library` classes with the specified attributes and methods.\n",
        "2. Create several books and users, and add them to the library system.\n",
        "3. Implement scenarios for issuing books to users and their return.\n",
        "4. Display the transaction history to show how books were issued and returned.\n"
      ]
    },
    {
      "cell_type": "code",
      "source": [
        "class Book:\n",
        "    def __init__(self, title, author, year, isbn, num_copies):\n",
        "        self.title = title\n",
        "        self.author = author\n",
        "        self.year = year\n",
        "        self.isbn = isbn\n",
        "        self.num_copies = num_copies\n",
        "\n",
        "    def get_info(self):\n",
        "        return {\n",
        "            \"Title\": self.title,\n",
        "            \"Author\": self.author,\n",
        "            \"Year\": self.year,\n",
        "            \"ISBN\": self.isbn,\n",
        "            \"Copies\": self.num_copies\n",
        "        }\n",
        "\n",
        "    def change_copies(self, num):\n",
        "        self.num_copies += num  # If num is negative, it will decrease the copies.\n",
        "\n",
        "class User:\n",
        "    def __init__(self, name, library_card_number):\n",
        "        self.name = name\n",
        "        self.library_card_number = library_card_number\n",
        "        self.borrowed_books = []\n",
        "\n",
        "    def register(self):\n",
        "        return f\"User {self.name} registered with card number {self.library_card_number}.\"\n",
        "\n",
        "    def borrow_book(self, book):\n",
        "        self.borrowed_books.append(book)\n",
        "\n",
        "    def return_book(self, book):\n",
        "        if book in self.borrowed_books:\n",
        "            self.borrowed_books.remove(book)\n",
        "\n",
        "class Library:\n",
        "    def __init__(self):\n",
        "        self.books = []\n",
        "        self.users = []\n",
        "        self.transaction_history = []\n",
        "\n",
        "    def add_book(self, book):\n",
        "        self.books.append(book)\n",
        "\n",
        "    def delete_book(self, book):\n",
        "        self.books.remove(book)\n",
        "\n",
        "    def add_user(self, user):\n",
        "        self.users.append(user)\n",
        "\n",
        "    def delete_user(self, user):\n",
        "        self.users.remove(user)\n",
        "\n",
        "    def find_book(self, title=None, author=None, year=None, isbn=None):\n",
        "        for book in self.books:\n",
        "            if ((title and book.title == title) or\n",
        "                (author and book.author == author) or\n",
        "                (year and book.year == year) or\n",
        "                (isbn and book.isbn == isbn)):\n",
        "                return book\n",
        "        return None\n",
        "\n",
        "    def find_user(self, name=None, library_card_number=None):\n",
        "        for user in self.users:\n",
        "            if ((name and user.name == name) or\n",
        "                (library_card_number and user.library_card_number == library_card_number)):\n",
        "                return user\n",
        "        return None\n",
        "\n",
        "    def issue_book(self, user, book):\n",
        "        if book.num_copies > 0:\n",
        "            user.borrow_book(book)\n",
        "            book.change_copies(-1)\n",
        "            self.transaction_history.append((user.name, \"borrowed\", book.title))\n",
        "            return f\"{user.name} issued {book.title}.\"\n",
        "\n",
        "        return f\"Sorry, {book.title} is not available.\"\n",
        "\n",
        "    def return_book(self, user, book):\n",
        "        if book in user.borrowed_books:\n",
        "            user.return_book(book)\n",
        "            book.change_copies(1)\n",
        "            self.transaction_history.append((user.name, \"returned\", book.title))\n",
        "            return f\"{user.name} returned {book.title}.\"\n",
        "\n",
        "        return f\"{user.name} does not have {book.title} borrowed.\"\n",
        "\n",
        "    def display_transaction_history(self):\n",
        "        for record in self.transaction_history:\n",
        "            print(f\"{record[0]} has {record[1]} '{record[2]}'.\")\n",
        "\n",
        "# Example\n",
        "library = Library()\n",
        "\n",
        "# Adding books\n",
        "book1 = Book(\"1984\", \"George Orwell\", 1949, \"1234567890123\", 3)\n",
        "book2 = Book(\"To Kill a Mockingbird\", \"Harper Lee\", 1960, \"1234567890124\", 2)\n",
        "library.add_book(book1)\n",
        "library.add_book(book2)\n",
        "\n",
        "# Adding users\n",
        "user1 = User(\"Alice\", \"1001\")\n",
        "user2 = User(\"Bob\", \"1002\")\n",
        "library.add_user(user1)\n",
        "library.add_user(user2)\n",
        "\n",
        "# Issue books\n",
        "print(library.issue_book(user1, book1))  # Alice issues 1984\n",
        "print(library.issue_book(user2, book1))  # Bob issues 1984\n",
        "print(library.issue_book(user2, book2))  # Bob issues To Kill a Mockingbird\n",
        "print(library.issue_book(user1, book1))  # Alice tries to issue 1984 again\n",
        "\n",
        "# Return books\n",
        "print(library.return_book(user1, book1))  # Alice returns 1984\n",
        "print(library.return_book(user2, book1))  # Bob returns 1984\n",
        "\n",
        "# Display transaction history\n",
        "print(\"\\nTransaction History:\")\n",
        "library.display_transaction_history()\n"
      ],
      "metadata": {
        "colab": {
          "base_uri": "https://localhost:8080/"
        },
        "id": "CTb0vkg_-bEj",
        "outputId": "6b646d7c-84d5-4560-e5f2-640bc610dfcb"
      },
      "execution_count": 13,
      "outputs": [
        {
          "output_type": "stream",
          "name": "stdout",
          "text": [
            "Alice issued 1984.\n",
            "Bob issued 1984.\n",
            "Bob issued To Kill a Mockingbird.\n",
            "Alice issued 1984.\n",
            "Alice returned 1984.\n",
            "Bob returned 1984.\n",
            "\n",
            "Transaction History:\n",
            "Alice has borrowed '1984'.\n",
            "Bob has borrowed '1984'.\n",
            "Bob has borrowed 'To Kill a Mockingbird'.\n",
            "Alice has borrowed '1984'.\n",
            "Alice has returned '1984'.\n",
            "Bob has returned '1984'.\n"
          ]
        }
      ]
    },
    {
      "cell_type": "markdown",
      "source": [],
      "metadata": {
        "id": "0CUKwtBQDmVs"
      }
    },
    {
      "cell_type": "markdown",
      "metadata": {
        "id": "8ltdzRmOoBGl"
      },
      "source": [
        "Problem 5\n",
        "\n",
        "Explain why list `b` changes after the execution of the following code:\n",
        "\n",
        "```python\n",
        "a = [1, 2, 3]\n",
        "b = a\n",
        "a[0] = 4\n",
        "print(b)\n",
        "```"
      ]
    },
    {
      "cell_type": "markdown",
      "source": [
        "Список b изменяется после выполнения кода, потому что он ссылается на тот же объект, что и список a. Когда вы присваиваете b = a, оба имени указывают на один и тот же список в памяти.\n",
        "\n",
        "\n",
        "\n"
      ],
      "metadata": {
        "id": "AZt8QHWhAibd"
      }
    },
    {
      "cell_type": "markdown",
      "source": [],
      "metadata": {
        "id": "GBXcUVCZDzp6"
      }
    },
    {
      "cell_type": "markdown",
      "metadata": {
        "id": "Gn0ibiVCoBGl"
      },
      "source": [
        "Problem 6\n",
        "\n",
        "Let\n",
        "$$A = \\sum_{i=1}^{10000} \\frac{1}{i^2},\\quad B=\\sum_{i=10000}^{1} \\frac{1}{i^2}.$$\n",
        "Calculate the values of $A$ and $B$ and compare them. What do you observe? Explain why this happens. What is the best way to calculate the value of $\\sum\\limits_{i=1}^{10000} \\dfrac{1}{i^2}$?"
      ]
    },
    {
      "cell_type": "code",
      "source": [
        "# Ряд A: сумма 1/(i^2) для i от 1 до 10000\n",
        "A = sum(1 / (i ** 2) for i in range(1, 10001))\n",
        "\n",
        "# Ряд B: сумма 1/(i^2) для i от 10000 до 1\n",
        "B = sum(1 / (i ** 2) for i in range(10000, 0, -1))\n",
        "\n",
        "# Сравнение рядов\n",
        "print(f\"Сумма ряда A: {A}\")\n",
        "print(f\"Сумма ряда B: {B}\")\n",
        "\n",
        "# Проверка равенства\n",
        "if A == B:\n",
        "    print(\"Суммы рядов A и B равны.\")\n",
        "else:\n",
        "    print(\"Суммы рядов A и B не равны.\")\n"
      ],
      "metadata": {
        "colab": {
          "base_uri": "https://localhost:8080/"
        },
        "id": "qgYwrzw0Asbd",
        "outputId": "427ad677-45c7-4639-aec4-9d70a4aa1fd3"
      },
      "execution_count": 14,
      "outputs": [
        {
          "output_type": "stream",
          "name": "stdout",
          "text": [
            "Сумма ряда A: 1.6448340718480652\n",
            "Сумма ряда B: 1.6448340718480596\n",
            "Суммы рядов A и B не равны.\n"
          ]
        }
      ]
    }
  ]
}